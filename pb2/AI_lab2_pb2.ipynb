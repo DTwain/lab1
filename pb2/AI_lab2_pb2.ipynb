{
  "cells": [
    {
      "cell_type": "code",
      "execution_count": null,
      "metadata": {
        "colab": {
          "base_uri": "https://localhost:8080/"
        },
        "id": "V-Fu021uL6oR",
        "outputId": "34569697-d56a-4bb2-eb15-772000750f44"
      },
      "outputs": [
        {
          "name": "stdout",
          "output_type": "stream",
          "text": [
            "Execution time: 0.01314223999997921 seconds\n"
          ]
        }
      ],
      "source": [
        "#varianta liniara scrisa de mine\n",
        "import math\n",
        "import time\n",
        "import random\n",
        "\n",
        "a = [random.randint(0, 10000) for _ in range(10000000)]\n",
        "b = [random.randint(0, 10000) for _ in range(10000000)]\n",
        "\n",
        "'''\n",
        "Functie care calculeaza liniar distanta euclidiana\n",
        "a - list\n",
        "b - list\n",
        "Return type: float\n",
        "Complexitate timp: O(n)\n",
        "Complexitate spatiu: O(n)\n",
        "'''\n",
        "def solution(a, b):\n",
        "  result = 0\n",
        "  for first_from_a, first_from_b in zip(a, b):\n",
        "    result += (first_from_a - first_from_b) ** 2\n",
        "  return math.sqrt(result)\n",
        "\n",
        "assert solution([1, 5], [4, 1]) == 5.0\n",
        "assert solution([6, 3, 1], [9, -1, 1]) == 5.0\n",
        "\n",
        "start = time.perf_counter()\n",
        "solution(a, b)\n",
        "end = time.perf_counter()\n",
        "\n",
        "print(f\"Execution time: {end - start} seconds\")"
      ]
    },
    {
      "cell_type": "code",
      "execution_count": null,
      "metadata": {
        "colab": {
          "base_uri": "https://localhost:8080/",
          "height": 332
        },
        "id": "8QUC6fanQvt5",
        "outputId": "05ea73db-eb21-460d-eb45-ab40cc4c1454"
      },
      "outputs": [
        {
          "ename": "ModuleNotFoundError",
          "evalue": "No module named 'numpy'",
          "output_type": "error",
          "traceback": [
            "\u001b[31m---------------------------------------------------------------------------\u001b[39m",
            "\u001b[31mModuleNotFoundError\u001b[39m                       Traceback (most recent call last)",
            "\u001b[36mCell\u001b[39m\u001b[36m \u001b[39m\u001b[32mIn[1]\u001b[39m\u001b[32m, line 2\u001b[39m\n\u001b[32m      1\u001b[39m \u001b[38;5;66;03m#varianta imbunatatita, scrisa de mine\u001b[39;00m\n\u001b[32m----> \u001b[39m\u001b[32m2\u001b[39m \u001b[38;5;28;01mimport\u001b[39;00m\u001b[38;5;250m \u001b[39m\u001b[34;01mnumpy\u001b[39;00m\u001b[38;5;250m \u001b[39m\u001b[38;5;28;01mas\u001b[39;00m\u001b[38;5;250m \u001b[39m\u001b[34;01mnp\u001b[39;00m\n\u001b[32m      3\u001b[39m \u001b[38;5;28;01mimport\u001b[39;00m\u001b[38;5;250m \u001b[39m\u001b[34;01mtime\u001b[39;00m\n\u001b[32m      4\u001b[39m \u001b[38;5;28;01mimport\u001b[39;00m\u001b[38;5;250m \u001b[39m\u001b[34;01mrandom\u001b[39;00m\n",
            "\u001b[31mModuleNotFoundError\u001b[39m: No module named 'numpy'"
          ]
        }
      ],
      "source": [
        "import numpy as np\n",
        "import time\n",
        "import math\n",
        "\n",
        "# Generate large random vectors\n",
        "a = np.random.randint(0, 10000, 10000000)\n",
        "b = np.random.randint(0, 10000, 10000000)\n",
        "\n",
        "'''\n",
        "Return type: float\n",
        "a - ndarray\n",
        "b - ndarray\n",
        "Complexitate timp: O(n)\n",
        "Complexitate spatiu: O(n)\n",
        "In practica numpy.sum este in general mai rapid decat varianta liniara,\n",
        "folosind loops de inalta performanta, iar unele versiuni pot folosi paralelism.\n",
        "'''\n",
        "def solution(a, b):\n",
        "    return math.sqrt(np.sum((a - b) ** 2))\n",
        "\n",
        "# Test #1\n",
        "v1 = np.array([1, 5])\n",
        "v2 = np.array([4, 1])\n",
        "assert solution(v1, v2) == 5.0\n",
        "\n",
        "# Test #2\n",
        "v1 = np.array([6, 3, 1])\n",
        "v2 = np.array([9, -1, 1])\n",
        "assert solution(v1, v2) == 5.0\n",
        "\n",
        "start = time.perf_counter()\n",
        "res = solution(a, b)\n",
        "end = time.perf_counter()\n",
        "\n",
        "print(\"Result (distance for big arrays):\", res)\n",
        "print(f\"Execution time: {end - start} seconds\")\n"
      ]
    },
    {
      "cell_type": "code",
      "execution_count": null,
      "metadata": {
        "colab": {
          "base_uri": "https://localhost:8080/"
        },
        "id": "EVsjCj3bXep7",
        "outputId": "3e9e6298-04d5-4bdf-ebb0-15c902e09824"
      },
      "outputs": [
        {
          "name": "stdout",
          "output_type": "stream",
          "text": [
            "7.0710678118654755\n"
          ]
        }
      ],
      "source": [
        "#varianta scrisa de GPT\n",
        "import math\n",
        "\n",
        "'''\n",
        "Returneaza distanta euclidiana\n",
        "Complexitate timp: O(n)\n",
        "Complexitate spatiu: O(1)\n",
        "'''\n",
        "def distanta_euclidiana(vector1, vector2):\n",
        "    # Verificăm dacă vectorii au aceeași dimensiune\n",
        "    if len(vector1) != len(vector2):\n",
        "        raise ValueError(\"Vectorii trebuie să aibă aceeași dimensiune\")\n",
        "    # Calculăm suma pătratelor diferențelor pentru fiecare componentă\n",
        "    suma = sum((a - b) ** 2 for a, b in zip(vector1, vector2))\n",
        "    return math.sqrt(suma)\n",
        "\n",
        "# Exemplu de utilizare:\n",
        "v1 = (1, 5, 2)\n",
        "v2 = (4, 1, 7)\n",
        "\n",
        "d = distanta_euclidiana(v1, v2)\n",
        "print(d)\n"
      ]
    },
    {
      "cell_type": "code",
      "execution_count": null,
      "metadata": {
        "id": "eEp7vpUHY3uX"
      },
      "outputs": [],
      "source": []
    }
  ],
  "metadata": {
    "colab": {
      "provenance": []
    },
    "kernelspec": {
      "display_name": "Python 3",
      "name": "python3"
    },
    "language_info": {
      "name": "python",
      "version": "3.13.0"
    }
  },
  "nbformat": 4,
  "nbformat_minor": 0
}
