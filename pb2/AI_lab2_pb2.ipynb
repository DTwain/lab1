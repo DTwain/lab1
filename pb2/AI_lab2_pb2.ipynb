{
  "nbformat": 4,
  "nbformat_minor": 0,
  "metadata": {
    "colab": {
      "provenance": []
    },
    "kernelspec": {
      "name": "python3",
      "display_name": "Python 3"
    },
    "language_info": {
      "name": "python"
    }
  },
  "cells": [
    {
      "cell_type": "code",
      "execution_count": null,
      "metadata": {
        "colab": {
          "base_uri": "https://localhost:8080/"
        },
        "id": "V-Fu021uL6oR",
        "outputId": "34569697-d56a-4bb2-eb15-772000750f44"
      },
      "outputs": [
        {
          "output_type": "stream",
          "name": "stdout",
          "text": [
            "Execution time: 0.01314223999997921 seconds\n"
          ]
        }
      ],
      "source": [
        "#varianta liniara scrisa de mine\n",
        "import math\n",
        "import time\n",
        "import random\n",
        "\n",
        "a = [random.randint(0, 10000) for _ in range(10000000)]\n",
        "b = [random.randint(0, 10000) for _ in range(10000000)]\n",
        "\n",
        "'''\n",
        "Functie care calculeaza liniar distanta euclidiana\n",
        "a - list\n",
        "b - list\n",
        "Return type: float\n",
        "Complexitate timp: O(n)\n",
        "Complexitate spatiu: O(n)\n",
        "'''\n",
        "def solution(a, b):\n",
        "  result = 0\n",
        "  for first_from_a, first_from_b in zip(a, b):\n",
        "    result += (first_from_a - first_from_b) ** 2\n",
        "  return math.sqrt(result)\n",
        "\n",
        "assert solution([1, 5], [4, 1]) == 5.0\n",
        "assert solution([6, 3, 1], [9, -1, 1]) == 5.0\n",
        "\n",
        "start = time.perf_counter()\n",
        "solution(a, b)\n",
        "end = time.perf_counter()\n",
        "\n",
        "print(f\"Execution time: {end - start} seconds\")"
      ]
    },
    {
      "cell_type": "code",
      "source": [
        "#varianta imbunatatita, scrisa de mine\n",
        "import numpy as np\n",
        "import time\n",
        "import random\n",
        "\n",
        "a = np.random.randint(0, 10000, 10000000)\n",
        "b = np.random.randint(0, 10000, 10000000)\n",
        "\n",
        "'''\n",
        "Return type: float\n",
        "a - list\n",
        "b - list\n",
        "Complexitate timp: O(n)\n",
        "Complexitate spatiu: O(n)\n",
        "In practica numpy.sum este in general mai rapid decat varianta liniara,\n",
        "folosind loops de inalta performanta, iar unele versiuni pot folosi paralelism\n",
        "'''\n",
        "def solution(a, b):\n",
        "  return math.sqrt(np.sum((a - b) ** 2))\n",
        "\n",
        "\n",
        "assert solution([1, 5], [4, 1]) == 5\n",
        "assert solution([6, 3, 1], [9, -1, 1]) == 5\n",
        "\n",
        "start = time.perf_counter()\n",
        "solution(a, b)\n",
        "end = time.perf_counter()\n",
        "\n",
        "print(f\"Execution time: {end - start} seconds\")"
      ],
      "metadata": {
        "colab": {
          "base_uri": "https://localhost:8080/",
          "height": 332
        },
        "id": "8QUC6fanQvt5",
        "outputId": "05ea73db-eb21-460d-eb45-ab40cc4c1454"
      },
      "execution_count": null,
      "outputs": [
        {
          "output_type": "error",
          "ename": "TypeError",
          "evalue": "unsupported operand type(s) for -: 'list' and 'list'",
          "traceback": [
            "\u001b[0;31m---------------------------------------------------------------------------\u001b[0m",
            "\u001b[0;31mTypeError\u001b[0m                                 Traceback (most recent call last)",
            "\u001b[0;32m<ipython-input-14-383513236244>\u001b[0m in \u001b[0;36m<cell line: 0>\u001b[0;34m()\u001b[0m\n\u001b[1;32m     19\u001b[0m   \u001b[0;32mreturn\u001b[0m \u001b[0mmath\u001b[0m\u001b[0;34m.\u001b[0m\u001b[0msqrt\u001b[0m\u001b[0;34m(\u001b[0m\u001b[0mnp\u001b[0m\u001b[0;34m.\u001b[0m\u001b[0msum\u001b[0m\u001b[0;34m(\u001b[0m\u001b[0;34m(\u001b[0m\u001b[0ma\u001b[0m \u001b[0;34m-\u001b[0m \u001b[0mb\u001b[0m\u001b[0;34m)\u001b[0m \u001b[0;34m**\u001b[0m \u001b[0;36m2\u001b[0m\u001b[0;34m)\u001b[0m\u001b[0;34m)\u001b[0m\u001b[0;34m\u001b[0m\u001b[0;34m\u001b[0m\u001b[0m\n\u001b[1;32m     20\u001b[0m \u001b[0;34m\u001b[0m\u001b[0m\n\u001b[0;32m---> 21\u001b[0;31m \u001b[0mprint\u001b[0m\u001b[0;34m(\u001b[0m\u001b[0msolution\u001b[0m\u001b[0;34m(\u001b[0m\u001b[0;34m[\u001b[0m\u001b[0;36m1\u001b[0m\u001b[0;34m,\u001b[0m \u001b[0;36m5\u001b[0m\u001b[0;34m]\u001b[0m\u001b[0;34m,\u001b[0m \u001b[0;34m[\u001b[0m\u001b[0;36m4\u001b[0m\u001b[0;34m,\u001b[0m \u001b[0;36m1\u001b[0m\u001b[0;34m]\u001b[0m\u001b[0;34m)\u001b[0m\u001b[0;34m)\u001b[0m\u001b[0;34m\u001b[0m\u001b[0;34m\u001b[0m\u001b[0m\n\u001b[0m\u001b[1;32m     22\u001b[0m \u001b[0;32massert\u001b[0m \u001b[0msolution\u001b[0m\u001b[0;34m(\u001b[0m\u001b[0;34m[\u001b[0m\u001b[0;36m1\u001b[0m\u001b[0;34m,\u001b[0m \u001b[0;36m5\u001b[0m\u001b[0;34m]\u001b[0m\u001b[0;34m,\u001b[0m \u001b[0;34m[\u001b[0m\u001b[0;36m4\u001b[0m\u001b[0;34m,\u001b[0m \u001b[0;36m1\u001b[0m\u001b[0;34m]\u001b[0m\u001b[0;34m)\u001b[0m \u001b[0;34m==\u001b[0m \u001b[0;36m5\u001b[0m\u001b[0;34m\u001b[0m\u001b[0;34m\u001b[0m\u001b[0m\n\u001b[1;32m     23\u001b[0m \u001b[0;32massert\u001b[0m \u001b[0msolution\u001b[0m\u001b[0;34m(\u001b[0m\u001b[0;34m[\u001b[0m\u001b[0;36m6\u001b[0m\u001b[0;34m,\u001b[0m \u001b[0;36m3\u001b[0m\u001b[0;34m,\u001b[0m \u001b[0;36m1\u001b[0m\u001b[0;34m]\u001b[0m\u001b[0;34m,\u001b[0m \u001b[0;34m[\u001b[0m\u001b[0;36m9\u001b[0m\u001b[0;34m,\u001b[0m \u001b[0;34m-\u001b[0m\u001b[0;36m1\u001b[0m\u001b[0;34m,\u001b[0m \u001b[0;36m1\u001b[0m\u001b[0;34m]\u001b[0m\u001b[0;34m)\u001b[0m \u001b[0;34m==\u001b[0m \u001b[0;36m5\u001b[0m\u001b[0;34m\u001b[0m\u001b[0;34m\u001b[0m\u001b[0m\n",
            "\u001b[0;32m<ipython-input-14-383513236244>\u001b[0m in \u001b[0;36msolution\u001b[0;34m(a, b)\u001b[0m\n\u001b[1;32m     17\u001b[0m '''\n\u001b[1;32m     18\u001b[0m \u001b[0;32mdef\u001b[0m \u001b[0msolution\u001b[0m\u001b[0;34m(\u001b[0m\u001b[0ma\u001b[0m\u001b[0;34m,\u001b[0m \u001b[0mb\u001b[0m\u001b[0;34m)\u001b[0m\u001b[0;34m:\u001b[0m\u001b[0;34m\u001b[0m\u001b[0;34m\u001b[0m\u001b[0m\n\u001b[0;32m---> 19\u001b[0;31m   \u001b[0;32mreturn\u001b[0m \u001b[0mmath\u001b[0m\u001b[0;34m.\u001b[0m\u001b[0msqrt\u001b[0m\u001b[0;34m(\u001b[0m\u001b[0mnp\u001b[0m\u001b[0;34m.\u001b[0m\u001b[0msum\u001b[0m\u001b[0;34m(\u001b[0m\u001b[0;34m(\u001b[0m\u001b[0ma\u001b[0m \u001b[0;34m-\u001b[0m \u001b[0mb\u001b[0m\u001b[0;34m)\u001b[0m \u001b[0;34m**\u001b[0m \u001b[0;36m2\u001b[0m\u001b[0;34m)\u001b[0m\u001b[0;34m)\u001b[0m\u001b[0;34m\u001b[0m\u001b[0;34m\u001b[0m\u001b[0m\n\u001b[0m\u001b[1;32m     20\u001b[0m \u001b[0;34m\u001b[0m\u001b[0m\n\u001b[1;32m     21\u001b[0m \u001b[0mprint\u001b[0m\u001b[0;34m(\u001b[0m\u001b[0msolution\u001b[0m\u001b[0;34m(\u001b[0m\u001b[0;34m[\u001b[0m\u001b[0;36m1\u001b[0m\u001b[0;34m,\u001b[0m \u001b[0;36m5\u001b[0m\u001b[0;34m]\u001b[0m\u001b[0;34m,\u001b[0m \u001b[0;34m[\u001b[0m\u001b[0;36m4\u001b[0m\u001b[0;34m,\u001b[0m \u001b[0;36m1\u001b[0m\u001b[0;34m]\u001b[0m\u001b[0;34m)\u001b[0m\u001b[0;34m)\u001b[0m\u001b[0;34m\u001b[0m\u001b[0;34m\u001b[0m\u001b[0m\n",
            "\u001b[0;31mTypeError\u001b[0m: unsupported operand type(s) for -: 'list' and 'list'"
          ]
        }
      ]
    },
    {
      "cell_type": "code",
      "source": [
        "#varianta scrisa de GPT\n",
        "import math\n",
        "\n",
        "'''\n",
        "Returneaza distanta euclidiana\n",
        "Complexitate timp: O(n)\n",
        "Complexitate spatiu: O(1)\n",
        "'''\n",
        "def distanta_euclidiana(vector1, vector2):\n",
        "    # Verificăm dacă vectorii au aceeași dimensiune\n",
        "    if len(vector1) != len(vector2):\n",
        "        raise ValueError(\"Vectorii trebuie să aibă aceeași dimensiune\")\n",
        "    # Calculăm suma pătratelor diferențelor pentru fiecare componentă\n",
        "    suma = sum((a - b) ** 2 for a, b in zip(vector1, vector2))\n",
        "    return math.sqrt(suma)\n",
        "\n",
        "# Exemplu de utilizare:\n",
        "v1 = (1, 5, 2)\n",
        "v2 = (4, 1, 7)\n",
        "\n",
        "d = distanta_euclidiana(v1, v2)\n",
        "print(d)\n"
      ],
      "metadata": {
        "colab": {
          "base_uri": "https://localhost:8080/"
        },
        "id": "EVsjCj3bXep7",
        "outputId": "3e9e6298-04d5-4bdf-ebb0-15c902e09824"
      },
      "execution_count": null,
      "outputs": [
        {
          "output_type": "stream",
          "name": "stdout",
          "text": [
            "7.0710678118654755\n"
          ]
        }
      ]
    },
    {
      "cell_type": "code",
      "source": [],
      "metadata": {
        "id": "eEp7vpUHY3uX"
      },
      "execution_count": null,
      "outputs": []
    }
  ]
}