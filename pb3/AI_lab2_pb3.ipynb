{
  "nbformat": 4,
  "nbformat_minor": 0,
  "metadata": {
    "colab": {
      "provenance": []
    },
    "kernelspec": {
      "name": "python3",
      "display_name": "Python 3"
    },
    "language_info": {
      "name": "python"
    }
  },
  "cells": [
    {
      "cell_type": "code",
      "source": [
        "#varianta scrisa de mine\n",
        "import numpy as np\n",
        "import time\n",
        "import random\n",
        "'''\n",
        "Return type: float\n",
        "a - list\n",
        "b - list\n",
        "Complexitate timp: O(n) , n este numarul total de elemente din toate listele si sublistele\n",
        "Complexitate spatiu: O(n)\n",
        "In practica numpy.sum este in general mai rapid decat varianta liniara,\n",
        "folosind loops de inalta performanta, iar unele versiuni pot folosi paralelism\n",
        "'''\n",
        "def solution(a, b):\n",
        "  return np.sum(a * b)\n",
        "\n",
        "a = np.array([1,0,2,0,3])\n",
        "b = np.array([1,2,0,3,1])\n",
        "assert solution(a, b) == 4\n",
        "\n",
        "a = np.array([[1, 2],\n",
        "              [3, 4]])\n",
        "b = np.array([[5, 6],\n",
        "              [7, 8]])\n",
        "assert solution(a, b) == 70"
      ],
      "metadata": {
        "id": "ELHhSi8AdT3x"
      },
      "execution_count": null,
      "outputs": []
    },
    {
      "cell_type": "code",
      "source": [
        "import numpy as np\n",
        "import time\n",
        "\n",
        "def multidim_dot(a, b):\n",
        "    # 1) If both are scalar-like\n",
        "    #    (covers Python int/float and also NumPy scalars, e.g. np.int32, np.float64)\n",
        "    if np.isscalar(a) and np.isscalar(b):\n",
        "        return a * b\n",
        "\n",
        "    # 2) If both are NumPy arrays\n",
        "    if isinstance(a, np.ndarray) and isinstance(b, np.ndarray):\n",
        "        # Just do an elementwise product and sum it\n",
        "        return np.sum(a * b)\n",
        "\n",
        "    # 3) Otherwise, assume they are lists or list-like structures of matching shape\n",
        "    total = 0\n",
        "    for x, y in zip(a, b):\n",
        "        total += multidim_dot(x, y)\n",
        "    return total\n",
        "\n",
        "# Example usage with lists:\n",
        "v2 = [[1, 2], [3, 4]]\n",
        "print(\"List example 1:\", multidim_dot(v2, v2))  # 1*1 + 2*2 + 3*3 + 4*4 = 30\n",
        "\n",
        "v = [1,0,2,0,3]\n",
        "u = [1,2,0,3,1]\n",
        "print(\"List example 2:\", multidim_dot(v, u))\n"
      ],
      "metadata": {
        "colab": {
          "base_uri": "https://localhost:8080/"
        },
        "id": "d1Q-KfsEn3UY",
        "outputId": "e34a6ec0-04ae-4a52-ef4f-917a8fe65d76"
      },
      "execution_count": null,
      "outputs": [
        {
          "output_type": "stream",
          "name": "stdout",
          "text": [
            "List example 1: 30\n",
            "List example 2: 4\n"
          ]
        }
      ]
    },
    {
      "cell_type": "code",
      "source": [],
      "metadata": {
        "id": "E9aveWu-h8Go"
      },
      "execution_count": null,
      "outputs": []
    }
  ]
}